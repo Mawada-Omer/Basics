{
 "cells": [
  {
   "cell_type": "code",
   "execution_count": 1,
   "metadata": {},
   "outputs": [],
   "source": [
    "from numpy import array\n",
    "from numpy import mean"
   ]
  },
  {
   "cell_type": "code",
   "execution_count": 2,
   "metadata": {},
   "outputs": [
    {
     "name": "stdout",
     "output_type": "stream",
     "text": [
      "[[1 2 3 4 5 6]\n",
      " [1 2 3 4 5 6]]\n"
     ]
    }
   ],
   "source": [
    "M = array([\n",
    "    [1,2,3,4,5,6],\n",
    "    [1,2,3,4,5,6]])\n",
    "print(M)"
   ]
  },
  {
   "cell_type": "code",
   "execution_count": 3,
   "metadata": {},
   "outputs": [
    {
     "name": "stdout",
     "output_type": "stream",
     "text": [
      "[1. 2. 3. 4. 5. 6.]\n"
     ]
    }
   ],
   "source": [
    "col_mean = mean(M, axis = 0)\n",
    "print(col_mean)"
   ]
  },
  {
   "cell_type": "code",
   "execution_count": 4,
   "metadata": {},
   "outputs": [
    {
     "name": "stdout",
     "output_type": "stream",
     "text": [
      "[3.5 3.5]\n"
     ]
    }
   ],
   "source": [
    "row_mean = mean(M, axis = 1)\n",
    "print(row_mean)"
   ]
  },
  {
   "cell_type": "code",
   "execution_count": 10,
   "metadata": {},
   "outputs": [],
   "source": [
    "from numpy import var"
   ]
  },
  {
   "cell_type": "code",
   "execution_count": 11,
   "metadata": {},
   "outputs": [
    {
     "name": "stdout",
     "output_type": "stream",
     "text": [
      "[1 2 3 4 5 6]\n"
     ]
    }
   ],
   "source": [
    "v = array([1,2,3,4,5,6])\n",
    "print(v)"
   ]
  },
  {
   "cell_type": "code",
   "execution_count": 12,
   "metadata": {},
   "outputs": [
    {
     "name": "stdout",
     "output_type": "stream",
     "text": [
      "3.5\n"
     ]
    }
   ],
   "source": [
    "result = var(v, ddof = 1)\n",
    "print(result)"
   ]
  },
  {
   "cell_type": "code",
   "execution_count": 22,
   "metadata": {},
   "outputs": [],
   "source": [
    "from numpy import cov\n",
    "from numpy import corrcoef"
   ]
  },
  {
   "cell_type": "code",
   "execution_count": 15,
   "metadata": {},
   "outputs": [
    {
     "name": "stdout",
     "output_type": "stream",
     "text": [
      "[1 2 3 4 5 6 7 8 9]\n",
      "[9 8 7 6 5 4 3 2 1]\n"
     ]
    }
   ],
   "source": [
    "x = array([1,2,3,4,5,6,7,8,9])\n",
    "y = array([9,8,7,6,5,4,3,2,1])\n",
    "print(x)\n",
    "print(y)"
   ]
  },
  {
   "cell_type": "code",
   "execution_count": 24,
   "metadata": {},
   "outputs": [
    {
     "name": "stdout",
     "output_type": "stream",
     "text": [
      "-1.0\n"
     ]
    }
   ],
   "source": [
    "corr = corrcoef(x,y)[0,1]\n",
    "print(corr)"
   ]
  },
  {
   "cell_type": "code",
   "execution_count": 16,
   "metadata": {},
   "outputs": [
    {
     "name": "stdout",
     "output_type": "stream",
     "text": [
      "-7.5\n"
     ]
    }
   ],
   "source": [
    "sigma = cov(x,y) [0,1]\n",
    "print(sigma)"
   ]
  },
  {
   "cell_type": "code",
   "execution_count": 20,
   "metadata": {},
   "outputs": [
    {
     "name": "stdout",
     "output_type": "stream",
     "text": [
      "[[ 1  5  8]\n",
      " [ 3  5 11]\n",
      " [ 2  4  9]\n",
      " [ 3  6 10]\n",
      " [ 1  5 10]]\n"
     ]
    }
   ],
   "source": [
    "X = array([[1,5,8],\n",
    "          [3,5,11],\n",
    "          [2,4,9],\n",
    "          [3,6,10],\n",
    "          [1,5,10]])\n",
    "print(X)"
   ]
  },
  {
   "cell_type": "code",
   "execution_count": 21,
   "metadata": {},
   "outputs": [
    {
     "name": "stdout",
     "output_type": "stream",
     "text": [
      "[[1.   0.25 0.75]\n",
      " [0.25 0.5  0.25]\n",
      " [0.75 0.25 1.3 ]]\n"
     ]
    }
   ],
   "source": [
    "sigma = cov(X.T)\n",
    "print(sigma)"
   ]
  },
  {
   "cell_type": "code",
   "execution_count": 25,
   "metadata": {},
   "outputs": [],
   "source": [
    "#PCA\n",
    "from numpy import cov\n",
    "from numpy.linalg import eig "
   ]
  },
  {
   "cell_type": "code",
   "execution_count": 26,
   "metadata": {},
   "outputs": [
    {
     "name": "stdout",
     "output_type": "stream",
     "text": [
      "[[1 2]\n",
      " [3 4]\n",
      " [5 6]]\n"
     ]
    }
   ],
   "source": [
    "A = array([\n",
    "    [1,2],\n",
    "    [3,4],\n",
    "    [5,6]])\n",
    "print(A)"
   ]
  },
  {
   "cell_type": "code",
   "execution_count": 29,
   "metadata": {},
   "outputs": [
    {
     "name": "stdout",
     "output_type": "stream",
     "text": [
      "[3. 4.]\n"
     ]
    }
   ],
   "source": [
    "# Get the mean of each columns\n",
    "col_mean = mean(A, axis = 0)\n",
    "print(col1_mean)"
   ]
  },
  {
   "cell_type": "code",
   "execution_count": 30,
   "metadata": {},
   "outputs": [
    {
     "name": "stdout",
     "output_type": "stream",
     "text": [
      "[[-2. -2.]\n",
      " [ 0.  0.]\n",
      " [ 2.  2.]]\n"
     ]
    }
   ],
   "source": [
    "# center the values in each column of A\n",
    "C = A - col_mean\n",
    "print(C)"
   ]
  },
  {
   "cell_type": "code",
   "execution_count": 31,
   "metadata": {},
   "outputs": [
    {
     "name": "stdout",
     "output_type": "stream",
     "text": [
      "[[4. 4.]\n",
      " [4. 4.]]\n"
     ]
    }
   ],
   "source": [
    "# covariance matrix of the centered\n",
    "V = cov(C.T)\n",
    "print(V)"
   ]
  },
  {
   "cell_type": "code",
   "execution_count": 33,
   "metadata": {},
   "outputs": [
    {
     "name": "stdout",
     "output_type": "stream",
     "text": [
      "[8. 0.]\n"
     ]
    }
   ],
   "source": [
    "# calculate eigndecomposition\n",
    "eig_val, eig_vect = eig(V)\n",
    "print(eig_val)"
   ]
  },
  {
   "cell_type": "code",
   "execution_count": 34,
   "metadata": {},
   "outputs": [
    {
     "name": "stdout",
     "output_type": "stream",
     "text": [
      "[[ 0.70710678 -0.70710678]\n",
      " [ 0.70710678  0.70710678]]\n"
     ]
    }
   ],
   "source": [
    "print(eig_vect)"
   ]
  },
  {
   "cell_type": "code",
   "execution_count": 37,
   "metadata": {},
   "outputs": [
    {
     "name": "stdout",
     "output_type": "stream",
     "text": [
      "[[-2.82842712  0.        ]\n",
      " [ 0.          0.        ]\n",
      " [ 2.82842712  0.        ]]\n"
     ]
    }
   ],
   "source": [
    "# project data\n",
    "P = eig_vect.T.dot(C.T)\n",
    "print(P.T)"
   ]
  },
  {
   "cell_type": "code",
   "execution_count": 38,
   "metadata": {},
   "outputs": [],
   "source": [
    "from sklearn.decomposition import PCA"
   ]
  },
  {
   "cell_type": "code",
   "execution_count": 42,
   "metadata": {},
   "outputs": [
    {
     "name": "stdout",
     "output_type": "stream",
     "text": [
      "[[ 0.70710678  0.70710678]\n",
      " [ 0.70710678 -0.70710678]]\n",
      "[8.00000000e+00 2.25080839e-33]\n"
     ]
    }
   ],
   "source": [
    "# create the transform\n",
    "pca = PCA(2)\n",
    "# fit transform\n",
    "pca.fit(A)\n",
    "# access values and vectors\n",
    "print(pca.components_) # vectors\n",
    "print(pca.explained_variance_) # values"
   ]
  },
  {
   "cell_type": "code",
   "execution_count": 43,
   "metadata": {},
   "outputs": [
    {
     "name": "stdout",
     "output_type": "stream",
     "text": [
      "[[-2.82842712e+00  2.22044605e-16]\n",
      " [ 0.00000000e+00  0.00000000e+00]\n",
      " [ 2.82842712e+00 -2.22044605e-16]]\n"
     ]
    }
   ],
   "source": [
    "# transform data\n",
    "B = pca.transform(A)\n",
    "print(B)"
   ]
  },
  {
   "cell_type": "code",
   "execution_count": 44,
   "metadata": {},
   "outputs": [],
   "source": [
    "# linear regression\n",
    "from matplotlib import pyplot"
   ]
  },
  {
   "cell_type": "code",
   "execution_count": 46,
   "metadata": {},
   "outputs": [
    {
     "name": "stdout",
     "output_type": "stream",
     "text": [
      "[[0.05 0.12]\n",
      " [0.18 0.22]\n",
      " [0.31 0.35]\n",
      " [0.42 0.38]\n",
      " [0.5  0.49]]\n"
     ]
    }
   ],
   "source": [
    "#dafine dataset\n",
    "data = array([\n",
    "    [0.05, 0.12],\n",
    "    [0.18, 0.22],\n",
    "    [0.31, 0.35],\n",
    "    [0.42, 0.38],\n",
    "    [0.5, 0.49]])\n",
    "print(data)"
   ]
  },
  {
   "cell_type": "code",
   "execution_count": 51,
   "metadata": {},
   "outputs": [],
   "source": [
    "X, y = data[:,0], data[:,1]\n",
    "X = X.reshape(len(X), 1) # reshape to column vector"
   ]
  },
  {
   "cell_type": "code",
   "execution_count": 53,
   "metadata": {},
   "outputs": [
    {
     "name": "stdout",
     "output_type": "stream",
     "text": [
      "[[0.05]\n",
      " [0.18]\n",
      " [0.31]\n",
      " [0.42]\n",
      " [0.5 ]]\n"
     ]
    }
   ],
   "source": [
    "print(X)"
   ]
  },
  {
   "cell_type": "code",
   "execution_count": 54,
   "metadata": {},
   "outputs": [
    {
     "data": {
      "text/plain": [
       "<matplotlib.collections.PathCollection at 0x7fceb9aabbe0>"
      ]
     },
     "execution_count": 54,
     "metadata": {},
     "output_type": "execute_result"
    },
    {
     "data": {
      "image/png": "[encoded data removed]",
      "text/plain": [
       "<Figure size 432x288 with 1 Axes>"
      ]
     },
     "metadata": {
      "needs_background": "light"
     },
     "output_type": "display_data"
    }
   ],
   "source": [
    "# scatter plot\n",
    "pyplot.scatter(X,y)"
   ]
  },
  {
   "cell_type": "code",
   "execution_count": 56,
   "metadata": {},
   "outputs": [],
   "source": [
    "from numpy.linalg import inv"
   ]
  },
  {
   "cell_type": "code",
   "execution_count": 57,
   "metadata": {},
   "outputs": [
    {
     "name": "stdout",
     "output_type": "stream",
     "text": [
      "[1.00233226]\n"
     ]
    }
   ],
   "source": [
    "# linear least square\n",
    "b = inv(X.T.dot(X)).dot(X.T).dot(y)\n",
    "print(b)"
   ]
  },
  {
   "cell_type": "code",
   "execution_count": 58,
   "metadata": {},
   "outputs": [],
   "source": [
    "# predict using coefficients\n",
    "yhat = X.dot(b)"
   ]
  },
  {
   "cell_type": "code",
   "execution_count": 59,
   "metadata": {},
   "outputs": [
    {
     "data": {
      "image/png": "[encoded data removed]",
      "text/plain": [
       "<Figure size 432x288 with 1 Axes>"
      ]
     },
     "metadata": {
      "needs_background": "light"
     },
     "output_type": "display_data"
    }
   ],
   "source": [
    "# plot data and predictions\n",
    "pyplot.scatter(X, y)\n",
    "pyplot.plot(X, yhat, color = 'red')\n",
    "pyplot.show()"
   ]
  },
  {
   "cell_type": "code",
   "execution_count": 60,
   "metadata": {},
   "outputs": [
    {
     "data": {
      "text/plain": [
       "array([[0.05, 0.12],\n",
       "       [0.18, 0.22],\n",
       "       [0.31, 0.35],\n",
       "       [0.42, 0.38],\n",
       "       [0.5 , 0.49]])"
      ]
     },
     "execution_count": 60,
     "metadata": {},
     "output_type": "execute_result"
    }
   ],
   "source": [
    "data"
   ]
  },
  {
   "cell_type": "code",
   "execution_count": 62,
   "metadata": {},
   "outputs": [],
   "source": [
    "# using QR decomposition to solve linear regression\n",
    "from numpy.linalg import qr"
   ]
  },
  {
   "cell_type": "code",
   "execution_count": 67,
   "metadata": {},
   "outputs": [
    {
     "name": "stdout",
     "output_type": "stream",
     "text": [
      "[[-0.06697096]\n",
      " [-0.24109545]\n",
      " [-0.41521995]\n",
      " [-0.56255606]\n",
      " [-0.6697096 ]]\n"
     ]
    }
   ],
   "source": [
    "Q,R = qr(X)\n",
    "print(Q)"
   ]
  },
  {
   "cell_type": "code",
   "execution_count": 68,
   "metadata": {},
   "outputs": [
    {
     "name": "stdout",
     "output_type": "stream",
     "text": [
      "[[-0.74659226]]\n"
     ]
    }
   ],
   "source": [
    "print(R)"
   ]
  },
  {
   "cell_type": "code",
   "execution_count": 69,
   "metadata": {},
   "outputs": [
    {
     "name": "stdout",
     "output_type": "stream",
     "text": [
      "[1.00233226]\n"
     ]
    }
   ],
   "source": [
    "b = inv(R).dot(Q.T).dot(y)\n",
    "print(b)"
   ]
  },
  {
   "cell_type": "code",
   "execution_count": 70,
   "metadata": {},
   "outputs": [],
   "source": [
    " yhat = X.dot(b)"
   ]
  },
  {
   "cell_type": "code",
   "execution_count": 72,
   "metadata": {},
   "outputs": [
    {
     "data": {
      "image/png": "[encoded data removed]",
      "text/plain": [
       "<Figure size 432x288 with 1 Axes>"
      ]
     },
     "metadata": {
      "needs_background": "light"
     },
     "output_type": "display_data"
    }
   ],
   "source": [
    "pyplot.scatter(X, y)\n",
    "pyplot.plot(X, yhat, color = 'red')\n",
    "pyplot.show()"
   ]
  },
  {
   "cell_type": "code",
   "execution_count": 73,
   "metadata": {},
   "outputs": [],
   "source": [
    "# using pseudoinverse\n",
    "from numpy.linalg import pinv"
   ]
  },
  {
   "cell_type": "code",
   "execution_count": 74,
   "metadata": {},
   "outputs": [
    {
     "name": "stdout",
     "output_type": "stream",
     "text": [
      "[1.00233226]\n"
     ]
    }
   ],
   "source": [
    "b = pinv(X).dot(y)\n",
    "print(b)"
   ]
  },
  {
   "cell_type": "code",
   "execution_count": 77,
   "metadata": {},
   "outputs": [
    {
     "data": {
      "image/png": "[encoded data removed]",
      "text/plain": [
       "<Figure size 432x288 with 1 Axes>"
      ]
     },
     "metadata": {
      "needs_background": "light"
     },
     "output_type": "display_data"
    }
   ],
   "source": [
    "# prediction\n",
    "yhat = X.dot(b)\n",
    "\n",
    "# plot data and predictions\n",
    "pyplot.scatter(X, y)\n",
    "pyplot.plot(X, yhat, color = 'purple')\n",
    "pyplot.show()"
   ]
  },
  {
   "cell_type": "code",
   "execution_count": 78,
   "metadata": {},
   "outputs": [],
   "source": [
    "# using convenience function\n",
    "from numpy.linalg import lstsq"
   ]
  },
  {
   "cell_type": "code",
   "execution_count": 84,
   "metadata": {},
   "outputs": [
    {
     "name": "stdout",
     "output_type": "stream",
     "text": [
      "[1.00233226]\n"
     ]
    }
   ],
   "source": [
    "b, residuals, rank, s = lstsq(X, y, rcond = None)\n",
    "print(b)"
   ]
  },
  {
   "cell_type": "code",
   "execution_count": 85,
   "metadata": {},
   "outputs": [
    {
     "name": "stdout",
     "output_type": "stream",
     "text": [
      "[0.00979697]\n"
     ]
    }
   ],
   "source": [
    "print(residuals)"
   ]
  },
  {
   "cell_type": "code",
   "execution_count": 86,
   "metadata": {},
   "outputs": [
    {
     "name": "stdout",
     "output_type": "stream",
     "text": [
      "1\n"
     ]
    }
   ],
   "source": [
    "print(rank)"
   ]
  },
  {
   "cell_type": "code",
   "execution_count": 87,
   "metadata": {},
   "outputs": [
    {
     "name": "stdout",
     "output_type": "stream",
     "text": [
      "[0.74659226]\n"
     ]
    }
   ],
   "source": [
    "print(s)"
   ]
  },
  {
   "cell_type": "code",
   "execution_count": 90,
   "metadata": {},
   "outputs": [
    {
     "data": {
      "image/png": "[encoded data removed]",
      "text/plain": [
       "<Figure size 432x288 with 1 Axes>"
      ]
     },
     "metadata": {
      "needs_background": "light"
     },
     "output_type": "display_data"
    }
   ],
   "source": [
    "# predict using coeffidients\n",
    "yhat = X.dot(b)\n",
    "# plot data and prediction\n",
    "pyplot.scatter(X, y)\n",
    "pyplot.plot(X, yhat, color = 'pink')\n",
    "pyplot.show()"
   ]
  },
  {
   "cell_type": "code",
   "execution_count": 91,
   "metadata": {},
   "outputs": [
    {
     "name": "stdout",
     "output_type": "stream",
     "text": [
      "absl-py==0.8.0\r\n",
      "alabaster==0.7.12\r\n",
      "anaconda-client==1.7.2\r\n",
      "anaconda-navigator==1.9.7\r\n",
      "anaconda-project==0.8.3\r\n",
      "asn1crypto==1.0.1\r\n",
      "astor==0.8.0\r\n",
      "astroid==2.3.1\r\n",
      "astropy==3.2.1\r\n",
      "atomicwrites==1.3.0\r\n",
      "attrs==19.2.0\r\n",
      "Babel==2.7.0\r\n",
      "backcall==0.1.0\r\n",
      "backports.functools-lru-cache==1.5\r\n",
      "backports.os==0.1.1\r\n",
      "backports.shutil-get-terminal-size==1.0.0\r\n",
      "backports.tempfile==1.0\r\n",
      "backports.weakref==1.0.post1\r\n",
      "beautifulsoup4==4.8.0\r\n",
      "bitarray==1.0.1\r\n",
      "bkcharts==0.2\r\n",
      "bleach==3.1.0\r\n",
      "bokeh==1.3.4\r\n",
      "boto==2.49.0\r\n",
      "Bottleneck==1.2.1\r\n",
      "certifi==2019.9.11\r\n",
      "cffi==1.12.3\r\n",
      "chardet==3.0.4\r\n",
      "Click==7.0\r\n",
      "cloudpickle==1.2.2\r\n",
      "clyent==1.2.2\r\n",
      "colorama==0.4.1\r\n",
      "conda==4.7.12\r\n",
      "conda-build==3.18.8\r\n",
      "conda-package-handling==1.6.0\r\n",
      "conda-verify==3.4.2\r\n",
      "contextlib2==0.6.0\r\n",
      "cryptography==2.7\r\n",
      "cvxpy==1.0.25\r\n",
      "cycler==0.10.0\r\n",
      "Cython==0.29.13\r\n",
      "cytoolz==0.10.0\r\n",
      "dask==2.5.2\r\n",
      "decorator==4.4.0\r\n",
      "defusedxml==0.6.0\r\n",
      "dill==0.3.1.1\r\n",
      "distributed==2.5.2\r\n",
      "docutils==0.15.2\r\n",
      "ecos==2.0.7.post1\r\n",
      "entrypoints==0.3\r\n",
      "et-xmlfile==1.0.1\r\n",
      "fastcache==1.1.0\r\n",
      "filelock==3.0.12\r\n",
      "Flask==1.1.1\r\n",
      "fsspec==0.5.2\r\n",
      "future==0.17.1\r\n",
      "gast==0.3.2\r\n",
      "get==2019.4.13\r\n",
      "gevent==1.4.0\r\n",
      "glob2==0.7\r\n",
      "gmpy2==2.0.8\r\n",
      "google-pasta==0.1.7\r\n",
      "graphviz==0.13.2\r\n",
      "greenlet==0.4.15\r\n",
      "grpcio==1.24.1\r\n",
      "gym==0.15.4\r\n",
      "h5py==2.9.0\r\n",
      "HeapDict==1.0.1\r\n",
      "html5lib==1.0.1\r\n",
      "idna==2.8\r\n",
      "imageio==2.6.0\r\n",
      "imagesize==1.1.0\r\n",
      "importlib-metadata==0.23\r\n",
      "ipykernel==5.1.2\r\n",
      "ipython==7.8.0\r\n",
      "ipython-genutils==0.2.0\r\n",
      "ipywidgets==7.5.1\r\n",
      "isort==4.3.21\r\n",
      "itsdangerous==1.1.0\r\n",
      "jdcal==1.4.1\r\n",
      "jedi==0.15.1\r\n",
      "jeepney==0.4.1\r\n",
      "Jinja2==2.10.3\r\n",
      "joblib==0.13.2\r\n",
      "json5==0.8.5\r\n",
      "jsonschema==3.0.2\r\n",
      "jupyter==1.0.0\r\n",
      "jupyter-client==5.3.3\r\n",
      "jupyter-console==6.0.0\r\n",
      "jupyter-core==4.5.0\r\n",
      "jupyterlab==1.1.4\r\n",
      "jupyterlab-server==1.0.6\r\n",
      "Keras==2.3.1\r\n",
      "Keras-Applications==1.0.8\r\n",
      "Keras-Preprocessing==1.1.0\r\n",
      "keyring==18.0.0\r\n",
      "kiwisolver==1.1.0\r\n",
      "lazy-object-proxy==1.4.2\r\n",
      "libarchive-c==2.8\r\n",
      "lief==0.9.0\r\n",
      "llvmlite==0.29.0\r\n",
      "locket==0.2.0\r\n",
      "lxml==4.4.1\r\n",
      "Markdown==3.1.1\r\n",
      "MarkupSafe==1.1.1\r\n",
      "matplotlib==3.1.1\r\n",
      "mccabe==0.6.1\r\n",
      "mistune==0.8.4\r\n",
      "mkl-fft==1.0.14\r\n",
      "mkl-random==1.1.0\r\n",
      "mkl-service==2.3.0\r\n",
      "mock==3.0.5\r\n",
      "more-itertools==7.2.0\r\n",
      "mpmath==1.1.0\r\n",
      "msgpack==0.6.1\r\n",
      "multipledispatch==0.6.0\r\n",
      "multiprocess==0.70.9\r\n",
      "navigator-updater==0.2.1\r\n",
      "nbconvert==5.6.0\r\n",
      "nbformat==4.4.0\r\n",
      "networkx==2.3\r\n",
      "nltk==3.4.5\r\n",
      "nose==1.3.7\r\n",
      "notebook==6.0.1\r\n",
      "numba==0.45.1\r\n",
      "numexpr==2.7.0\r\n",
      "numpy==1.17.2\r\n",
      "numpydoc==0.9.1\r\n",
      "olefile==0.46\r\n",
      "opencv-python==4.1.2.30\r\n",
      "openpyxl==3.0.0\r\n",
      "osqp==0.6.1\r\n",
      "packaging==19.2\r\n",
      "pandas==0.25.1\r\n",
      "pandocfilters==1.4.2\r\n",
      "parso==0.5.1\r\n",
      "partd==1.0.0\r\n",
      "path.py==12.0.1\r\n",
      "pathlib2==2.3.5\r\n",
      "patsy==0.5.1\r\n",
      "pep8==1.7.1\r\n",
      "pexpect==4.7.0\r\n",
      "pickleshare==0.7.5\r\n",
      "Pillow==6.2.0\r\n",
      "pkginfo==1.5.0.1\r\n",
      "pluggy==0.13.0\r\n",
      "ply==3.11\r\n",
      "prometheus-client==0.7.1\r\n",
      "prompt-toolkit==2.0.10\r\n",
      "protobuf==3.10.0\r\n",
      "psutil==5.6.3\r\n",
      "ptyprocess==0.6.0\r\n",
      "public==2019.4.13\r\n",
      "py==1.8.0\r\n",
      "pycodestyle==2.5.0\r\n",
      "pycosat==0.6.3\r\n",
      "pycparser==2.19\r\n",
      "pycrypto==2.6.1\r\n",
      "pycurl==7.43.0.3\r\n",
      "pyflakes==2.1.1\r\n",
      "pyglet==1.3.2\r\n",
      "Pygments==2.4.2\r\n",
      "pylint==2.4.2\r\n",
      "pyodbc==4.0.27\r\n",
      "pyOpenSSL==19.0.0\r\n",
      "pyparsing==2.4.2\r\n",
      "pyrsistent==0.15.4\r\n",
      "PySocks==1.7.1\r\n",
      "pytest==5.2.1\r\n",
      "pytest-arraydiff==0.3\r\n",
      "pytest-astropy==0.5.0\r\n",
      "pytest-doctestplus==0.4.0\r\n",
      "pytest-openfiles==0.4.0\r\n",
      "pytest-remotedata==0.3.2\r\n",
      "python-dateutil==2.8.0\r\n",
      "pytz==2019.3\r\n",
      "PyWavelets==1.0.3\r\n",
      "PyYAML==5.1.2\r\n",
      "pyzmq==18.1.0\r\n",
      "QtAwesome==0.6.0\r\n",
      "qtconsole==4.5.5\r\n",
      "QtPy==1.9.0\r\n",
      "query-string==2019.4.13\r\n",
      "requests==2.22.0\r\n",
      "rope==0.14.0\r\n",
      "ruamel-yaml==0.15.46\r\n",
      "scikit-image==0.15.0\r\n",
      "scikit-learn==0.21.3\r\n",
      "scipy==1.3.1\r\n",
      "scs==2.1.1.post2\r\n",
      "seaborn==0.9.0\r\n",
      "SecretStorage==3.1.1\r\n",
      "Send2Trash==1.5.0\r\n",
      "simplegeneric==0.8.1\r\n",
      "singledispatch==3.4.0.3\r\n",
      "six==1.12.0\r\n",
      "snowballstemmer==2.0.0\r\n",
      "sortedcollections==1.1.2\r\n",
      "sortedcontainers==2.1.0\r\n",
      "soupsieve==1.9.3\r\n",
      "Sphinx==2.2.0\r\n",
      "sphinxcontrib-applehelp==1.0.1\r\n",
      "sphinxcontrib-devhelp==1.0.1\r\n",
      "sphinxcontrib-htmlhelp==1.0.2\r\n",
      "sphinxcontrib-jsmath==1.0.1\r\n",
      "sphinxcontrib-qthelp==1.0.2\r\n",
      "sphinxcontrib-serializinghtml==1.1.3\r\n",
      "sphinxcontrib-websupport==1.1.2\r\n",
      "spyder==3.3.6\r\n",
      "spyder-kernels==0.5.2\r\n",
      "SQLAlchemy==1.3.9\r\n",
      "statsmodels==0.10.1\r\n",
      "sympy==1.4\r\n",
      "tables==3.5.2\r\n",
      "tb-nightly==1.14.0a20190301\r\n",
      "tblib==1.4.0\r\n",
      "tensorflow==2.0.0a0\r\n",
      "termcolor==1.1.0\r\n",
      "terminado==0.8.2\r\n",
      "testpath==0.4.2\r\n",
      "tf-estimator-nightly==1.14.0.dev2019030115\r\n",
      "toolz==0.10.0\r\n",
      "torch==1.3.1\r\n",
      "torch-vision==0.1.6.dev0\r\n",
      "torchviz==0.0.1\r\n",
      "tornado==6.0.3\r\n",
      "tqdm==4.36.1\r\n",
      "traitlets==4.3.3\r\n",
      "unicodecsv==0.14.1\r\n",
      "urllib3==1.24.2\r\n",
      "wcwidth==0.1.7\r\n",
      "webencodings==0.5.1\r\n",
      "Werkzeug==0.16.0\r\n",
      "wget==3.2\r\n",
      "widgetsnbextension==3.5.1\r\n",
      "wrapt==1.11.2\r\n",
      "wurlitzer==1.0.3\r\n",
      "xlrd==1.2.0\r\n",
      "XlsxWriter==1.2.1\r\n",
      "xlwt==1.3.0\r\n",
      "zict==1.0.0\r\n",
      "zipp==0.6.0\r\n"
     ]
    }
   ],
   "source": [
    "# to check module version in your computer\n",
    "!pip freeze"
   ]
  },
  {
   "cell_type": "code",
   "execution_count": 2,
   "metadata": {},
   "outputs": [],
   "source": [
    "import numpy as np"
   ]
  },
  {
   "cell_type": "code",
   "execution_count": 94,
   "metadata": {},
   "outputs": [
    {
     "data": {
      "text/plain": [
       "'1.17.2'"
      ]
     },
     "execution_count": 94,
     "metadata": {},
     "output_type": "execute_result"
    }
   ],
   "source": [
    "numpy.__version__"
   ]
  },
  {
   "cell_type": "code",
   "execution_count": 3,
   "metadata": {},
   "outputs": [],
   "source": [
    "a = np.random.randn(3, 3)\n",
    "b = np.random.randn(3, 1)\n",
    "c = a*b"
   ]
  },
  {
   "cell_type": "code",
   "execution_count": 4,
   "metadata": {},
   "outputs": [
    {
     "data": {
      "text/plain": [
       "array([[ 0.8210161 ,  0.83162861,  1.02822396],\n",
       "       [ 0.47653027,  0.63389409,  0.21103738],\n",
       "       [ 0.07130939,  0.07278427, -0.03508591]])"
      ]
     },
     "execution_count": 4,
     "metadata": {},
     "output_type": "execute_result"
    }
   ],
   "source": [
    "c"
   ]
  },
  {
   "cell_type": "code",
   "execution_count": null,
   "metadata": {},
   "outputs": [],
   "source": []
  }
 ],
 "metadata": {
  "kernelspec": {
   "display_name": "Python 3",
   "language": "python",
   "name": "python3"
  },
  "language_info": {
   "codemirror_mode": {
    "name": "ipython",
    "version": 3
   },
   "file_extension": ".py",
   "mimetype": "text/x-python",
   "name": "python",
   "nbconvert_exporter": "python",
   "pygments_lexer": "ipython3",
   "version": "3.7.3"
  }
 },
 "nbformat": 4,
 "nbformat_minor": 2
}
